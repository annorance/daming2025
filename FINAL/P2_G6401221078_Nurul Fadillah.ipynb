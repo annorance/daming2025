{
  "nbformat": 4,
  "nbformat_minor": 0,
  "metadata": {
    "colab": {
      "provenance": []
    },
    "kernelspec": {
      "name": "python3",
      "display_name": "Python 3"
    },
    "language_info": {
      "name": "python"
    }
  },
  "cells": [
    {
      "cell_type": "code",
      "execution_count": 1,
      "metadata": {
        "id": "NAMLyMku8mwI"
      },
      "outputs": [],
      "source": [
        "import pandas as pd\n",
        "import numpy as np\n",
        "import matplotlib.pyplot as plt\n",
        "import seaborn as sns\n",
        "from imblearn.over_sampling import SMOTE\n",
        "from collections import Counter\n",
        "from sklearn.preprocessing import StandardScaler, LabelEncoder\n",
        "from sklearn.metrics import accuracy_score\n",
        "from sklearn.metrics import classification_report\n",
        "from sklearn.metrics import confusion_matrix\n",
        "from sklearn.model_selection import train_test_split,GridSearchCV, cross_val_score, RandomizedSearchCV\n",
        "from sklearn import metrics\n",
        "from sklearn.model_selection import RepeatedStratifiedKFold\n",
        "from sklearn.model_selection import cross_validate\n",
        "from statistics import mean\n",
        "from sklearn.svm import SVC\n",
        "from sklearn.ensemble import RandomForestClassifier\n",
        "from xgboost import XGBClassifier\n",
        "from sklearn.model_selection import learning_curve\n",
        "from sklearn.ensemble import VotingClassifier\n",
        "from sklearn.ensemble import StackingClassifier\n",
        "from sklearn.linear_model import LogisticRegression\n"
      ]
    },
    {
      "cell_type": "code",
      "source": [
        "from google.colab import drive\n",
        "drive.mount('/content/drive')"
      ],
      "metadata": {
        "colab": {
          "base_uri": "https://localhost:8080/"
        },
        "id": "SMm9Gbgv8_aS",
        "outputId": "2f9acbd7-e5fc-4244-83a5-de8dc126e318"
      },
      "execution_count": 2,
      "outputs": [
        {
          "output_type": "stream",
          "name": "stdout",
          "text": [
            "Mounted at /content/drive\n"
          ]
        }
      ]
    },
    {
      "cell_type": "code",
      "source": [
        "df_train = pd.read_csv('/content/drive/MyDrive/IPB/MATKUL/TINGKAT 3/SMT 6/Data Mining/KULIAH/Kaggle Competition/training.csv')"
      ],
      "metadata": {
        "id": "CJzUW76B9A5B"
      },
      "execution_count": 3,
      "outputs": []
    },
    {
      "cell_type": "code",
      "source": [
        "#drop kolom sample_id\n",
        "df_train = df_train.drop(['sample_id'], axis=1)"
      ],
      "metadata": {
        "id": "7JmQbWuW9C2A"
      },
      "execution_count": 4,
      "outputs": []
    },
    {
      "cell_type": "code",
      "source": [
        "#encode kolom Target\n",
        "label_encoder = LabelEncoder()\n",
        "\n",
        "df_train_encoded = df_train.copy()\n",
        "\n",
        "df_train_encoded['Target'] = label_encoder.fit_transform(df_train['Target'])\n",
        "\n",
        "df_train_encoded"
      ],
      "metadata": {
        "colab": {
          "base_uri": "https://localhost:8080/",
          "height": 495
        },
        "id": "ZqlrvCVG9MEj",
        "outputId": "6850f4cd-70f0-4205-8f4c-1d9f65d5b74a"
      },
      "execution_count": 5,
      "outputs": [
        {
          "output_type": "execute_result",
          "data": {
            "text/plain": [
              "      Marital status  Application mode  Application order  Course  \\\n",
              "0                  1                 8                  5       2   \n",
              "1                  1                 6                  1      11   \n",
              "2                  1                 1                  5       5   \n",
              "3                  1                 8                  2      15   \n",
              "4                  2                12                  1       3   \n",
              "...              ...               ...                ...     ...   \n",
              "3995               2                12                  1      17   \n",
              "3996               1                 1                  1      16   \n",
              "3997               4                12                  2      13   \n",
              "3998               4                 4                  1      12   \n",
              "3999               1                 8                  6      12   \n",
              "\n",
              "      Daytime/evening attendance  Previous qualification  Nacionality  \\\n",
              "0                              1                       1            1   \n",
              "1                              1                       1            1   \n",
              "2                              1                       1            1   \n",
              "3                              1                       1            1   \n",
              "4                              0                       1            1   \n",
              "...                          ...                     ...          ...   \n",
              "3995                           0                       1            1   \n",
              "3996                           1                       1            1   \n",
              "3997                           1                      12            1   \n",
              "3998                           1                      15            1   \n",
              "3999                           1                       1            1   \n",
              "\n",
              "      Mother's qualification  Father's qualification  Mother's occupation  \\\n",
              "0                         13                      10                    6   \n",
              "1                          1                       3                    4   \n",
              "2                         22                      27                   10   \n",
              "3                         23                      27                    6   \n",
              "4                         22                      28                   10   \n",
              "...                      ...                     ...                  ...   \n",
              "3995                      22                      27                   10   \n",
              "3996                       1                       1                   10   \n",
              "3997                      13                      14                    5   \n",
              "3998                      13                      14                    5   \n",
              "3999                       1                      28                    5   \n",
              "\n",
              "      ...  Curricular units 2nd sem (credited)  \\\n",
              "0     ...                                    0   \n",
              "1     ...                                    0   \n",
              "2     ...                                    0   \n",
              "3     ...                                    0   \n",
              "4     ...                                    0   \n",
              "...   ...                                  ...   \n",
              "3995  ...                                    0   \n",
              "3996  ...                                    0   \n",
              "3997  ...                                    0   \n",
              "3998  ...                                    3   \n",
              "3999  ...                                    0   \n",
              "\n",
              "      Curricular units 2nd sem (enrolled)  \\\n",
              "0                                       0   \n",
              "1                                       6   \n",
              "2                                       6   \n",
              "3                                       6   \n",
              "4                                       6   \n",
              "...                                   ...   \n",
              "3995                                    5   \n",
              "3996                                    6   \n",
              "3997                                    8   \n",
              "3998                                    7   \n",
              "3999                                    8   \n",
              "\n",
              "      Curricular units 2nd sem (evaluations)  \\\n",
              "0                                          0   \n",
              "1                                          6   \n",
              "2                                          0   \n",
              "3                                         10   \n",
              "4                                          6   \n",
              "...                                      ...   \n",
              "3995                                       5   \n",
              "3996                                      13   \n",
              "3997                                      11   \n",
              "3998                                      11   \n",
              "3999                                       8   \n",
              "\n",
              "      Curricular units 2nd sem (approved)  Curricular units 2nd sem (grade)  \\\n",
              "0                                       0                          0.000000   \n",
              "1                                       6                         13.666667   \n",
              "2                                       0                          0.000000   \n",
              "3                                       5                         12.400000   \n",
              "4                                       6                         13.000000   \n",
              "...                                   ...                               ...   \n",
              "3995                                    0                          0.000000   \n",
              "3996                                    2                         12.000000   \n",
              "3997                                    8                         12.300000   \n",
              "3998                                    3                         14.166667   \n",
              "3999                                    8                         14.212500   \n",
              "\n",
              "      Curricular units 2nd sem (without evaluations)  Unemployment rate  \\\n",
              "0                                                  0               10.8   \n",
              "1                                                  0               13.9   \n",
              "2                                                  0               10.8   \n",
              "3                                                  0                9.4   \n",
              "4                                                  0               13.9   \n",
              "...                                              ...                ...   \n",
              "3995                                               0                7.6   \n",
              "3996                                               0               12.7   \n",
              "3997                                               0               10.8   \n",
              "3998                                               0               12.4   \n",
              "3999                                               0               13.9   \n",
              "\n",
              "      Inflation rate   GDP  Target  \n",
              "0                1.4  1.74       0  \n",
              "1               -0.3  0.79       2  \n",
              "2                1.4  1.74       0  \n",
              "3               -0.8 -3.12       2  \n",
              "4               -0.3  0.79       2  \n",
              "...              ...   ...     ...  \n",
              "3995             2.6  0.32       0  \n",
              "3996             3.7 -1.70       0  \n",
              "3997             1.4  1.74       2  \n",
              "3998             0.5  1.79       0  \n",
              "3999            -0.3  0.79       0  \n",
              "\n",
              "[4000 rows x 35 columns]"
            ],
            "text/html": [
              "\n",
              "  <div id=\"df-37606f03-8893-413c-8bed-c47b4ad2881a\" class=\"colab-df-container\">\n",
              "    <div>\n",
              "<style scoped>\n",
              "    .dataframe tbody tr th:only-of-type {\n",
              "        vertical-align: middle;\n",
              "    }\n",
              "\n",
              "    .dataframe tbody tr th {\n",
              "        vertical-align: top;\n",
              "    }\n",
              "\n",
              "    .dataframe thead th {\n",
              "        text-align: right;\n",
              "    }\n",
              "</style>\n",
              "<table border=\"1\" class=\"dataframe\">\n",
              "  <thead>\n",
              "    <tr style=\"text-align: right;\">\n",
              "      <th></th>\n",
              "      <th>Marital status</th>\n",
              "      <th>Application mode</th>\n",
              "      <th>Application order</th>\n",
              "      <th>Course</th>\n",
              "      <th>Daytime/evening attendance</th>\n",
              "      <th>Previous qualification</th>\n",
              "      <th>Nacionality</th>\n",
              "      <th>Mother's qualification</th>\n",
              "      <th>Father's qualification</th>\n",
              "      <th>Mother's occupation</th>\n",
              "      <th>...</th>\n",
              "      <th>Curricular units 2nd sem (credited)</th>\n",
              "      <th>Curricular units 2nd sem (enrolled)</th>\n",
              "      <th>Curricular units 2nd sem (evaluations)</th>\n",
              "      <th>Curricular units 2nd sem (approved)</th>\n",
              "      <th>Curricular units 2nd sem (grade)</th>\n",
              "      <th>Curricular units 2nd sem (without evaluations)</th>\n",
              "      <th>Unemployment rate</th>\n",
              "      <th>Inflation rate</th>\n",
              "      <th>GDP</th>\n",
              "      <th>Target</th>\n",
              "    </tr>\n",
              "  </thead>\n",
              "  <tbody>\n",
              "    <tr>\n",
              "      <th>0</th>\n",
              "      <td>1</td>\n",
              "      <td>8</td>\n",
              "      <td>5</td>\n",
              "      <td>2</td>\n",
              "      <td>1</td>\n",
              "      <td>1</td>\n",
              "      <td>1</td>\n",
              "      <td>13</td>\n",
              "      <td>10</td>\n",
              "      <td>6</td>\n",
              "      <td>...</td>\n",
              "      <td>0</td>\n",
              "      <td>0</td>\n",
              "      <td>0</td>\n",
              "      <td>0</td>\n",
              "      <td>0.000000</td>\n",
              "      <td>0</td>\n",
              "      <td>10.8</td>\n",
              "      <td>1.4</td>\n",
              "      <td>1.74</td>\n",
              "      <td>0</td>\n",
              "    </tr>\n",
              "    <tr>\n",
              "      <th>1</th>\n",
              "      <td>1</td>\n",
              "      <td>6</td>\n",
              "      <td>1</td>\n",
              "      <td>11</td>\n",
              "      <td>1</td>\n",
              "      <td>1</td>\n",
              "      <td>1</td>\n",
              "      <td>1</td>\n",
              "      <td>3</td>\n",
              "      <td>4</td>\n",
              "      <td>...</td>\n",
              "      <td>0</td>\n",
              "      <td>6</td>\n",
              "      <td>6</td>\n",
              "      <td>6</td>\n",
              "      <td>13.666667</td>\n",
              "      <td>0</td>\n",
              "      <td>13.9</td>\n",
              "      <td>-0.3</td>\n",
              "      <td>0.79</td>\n",
              "      <td>2</td>\n",
              "    </tr>\n",
              "    <tr>\n",
              "      <th>2</th>\n",
              "      <td>1</td>\n",
              "      <td>1</td>\n",
              "      <td>5</td>\n",
              "      <td>5</td>\n",
              "      <td>1</td>\n",
              "      <td>1</td>\n",
              "      <td>1</td>\n",
              "      <td>22</td>\n",
              "      <td>27</td>\n",
              "      <td>10</td>\n",
              "      <td>...</td>\n",
              "      <td>0</td>\n",
              "      <td>6</td>\n",
              "      <td>0</td>\n",
              "      <td>0</td>\n",
              "      <td>0.000000</td>\n",
              "      <td>0</td>\n",
              "      <td>10.8</td>\n",
              "      <td>1.4</td>\n",
              "      <td>1.74</td>\n",
              "      <td>0</td>\n",
              "    </tr>\n",
              "    <tr>\n",
              "      <th>3</th>\n",
              "      <td>1</td>\n",
              "      <td>8</td>\n",
              "      <td>2</td>\n",
              "      <td>15</td>\n",
              "      <td>1</td>\n",
              "      <td>1</td>\n",
              "      <td>1</td>\n",
              "      <td>23</td>\n",
              "      <td>27</td>\n",
              "      <td>6</td>\n",
              "      <td>...</td>\n",
              "      <td>0</td>\n",
              "      <td>6</td>\n",
              "      <td>10</td>\n",
              "      <td>5</td>\n",
              "      <td>12.400000</td>\n",
              "      <td>0</td>\n",
              "      <td>9.4</td>\n",
              "      <td>-0.8</td>\n",
              "      <td>-3.12</td>\n",
              "      <td>2</td>\n",
              "    </tr>\n",
              "    <tr>\n",
              "      <th>4</th>\n",
              "      <td>2</td>\n",
              "      <td>12</td>\n",
              "      <td>1</td>\n",
              "      <td>3</td>\n",
              "      <td>0</td>\n",
              "      <td>1</td>\n",
              "      <td>1</td>\n",
              "      <td>22</td>\n",
              "      <td>28</td>\n",
              "      <td>10</td>\n",
              "      <td>...</td>\n",
              "      <td>0</td>\n",
              "      <td>6</td>\n",
              "      <td>6</td>\n",
              "      <td>6</td>\n",
              "      <td>13.000000</td>\n",
              "      <td>0</td>\n",
              "      <td>13.9</td>\n",
              "      <td>-0.3</td>\n",
              "      <td>0.79</td>\n",
              "      <td>2</td>\n",
              "    </tr>\n",
              "    <tr>\n",
              "      <th>...</th>\n",
              "      <td>...</td>\n",
              "      <td>...</td>\n",
              "      <td>...</td>\n",
              "      <td>...</td>\n",
              "      <td>...</td>\n",
              "      <td>...</td>\n",
              "      <td>...</td>\n",
              "      <td>...</td>\n",
              "      <td>...</td>\n",
              "      <td>...</td>\n",
              "      <td>...</td>\n",
              "      <td>...</td>\n",
              "      <td>...</td>\n",
              "      <td>...</td>\n",
              "      <td>...</td>\n",
              "      <td>...</td>\n",
              "      <td>...</td>\n",
              "      <td>...</td>\n",
              "      <td>...</td>\n",
              "      <td>...</td>\n",
              "      <td>...</td>\n",
              "    </tr>\n",
              "    <tr>\n",
              "      <th>3995</th>\n",
              "      <td>2</td>\n",
              "      <td>12</td>\n",
              "      <td>1</td>\n",
              "      <td>17</td>\n",
              "      <td>0</td>\n",
              "      <td>1</td>\n",
              "      <td>1</td>\n",
              "      <td>22</td>\n",
              "      <td>27</td>\n",
              "      <td>10</td>\n",
              "      <td>...</td>\n",
              "      <td>0</td>\n",
              "      <td>5</td>\n",
              "      <td>5</td>\n",
              "      <td>0</td>\n",
              "      <td>0.000000</td>\n",
              "      <td>0</td>\n",
              "      <td>7.6</td>\n",
              "      <td>2.6</td>\n",
              "      <td>0.32</td>\n",
              "      <td>0</td>\n",
              "    </tr>\n",
              "    <tr>\n",
              "      <th>3996</th>\n",
              "      <td>1</td>\n",
              "      <td>1</td>\n",
              "      <td>1</td>\n",
              "      <td>16</td>\n",
              "      <td>1</td>\n",
              "      <td>1</td>\n",
              "      <td>1</td>\n",
              "      <td>1</td>\n",
              "      <td>1</td>\n",
              "      <td>10</td>\n",
              "      <td>...</td>\n",
              "      <td>0</td>\n",
              "      <td>6</td>\n",
              "      <td>13</td>\n",
              "      <td>2</td>\n",
              "      <td>12.000000</td>\n",
              "      <td>0</td>\n",
              "      <td>12.7</td>\n",
              "      <td>3.7</td>\n",
              "      <td>-1.70</td>\n",
              "      <td>0</td>\n",
              "    </tr>\n",
              "    <tr>\n",
              "      <th>3997</th>\n",
              "      <td>4</td>\n",
              "      <td>12</td>\n",
              "      <td>2</td>\n",
              "      <td>13</td>\n",
              "      <td>1</td>\n",
              "      <td>12</td>\n",
              "      <td>1</td>\n",
              "      <td>13</td>\n",
              "      <td>14</td>\n",
              "      <td>5</td>\n",
              "      <td>...</td>\n",
              "      <td>0</td>\n",
              "      <td>8</td>\n",
              "      <td>11</td>\n",
              "      <td>8</td>\n",
              "      <td>12.300000</td>\n",
              "      <td>0</td>\n",
              "      <td>10.8</td>\n",
              "      <td>1.4</td>\n",
              "      <td>1.74</td>\n",
              "      <td>2</td>\n",
              "    </tr>\n",
              "    <tr>\n",
              "      <th>3998</th>\n",
              "      <td>4</td>\n",
              "      <td>4</td>\n",
              "      <td>1</td>\n",
              "      <td>12</td>\n",
              "      <td>1</td>\n",
              "      <td>15</td>\n",
              "      <td>1</td>\n",
              "      <td>13</td>\n",
              "      <td>14</td>\n",
              "      <td>5</td>\n",
              "      <td>...</td>\n",
              "      <td>3</td>\n",
              "      <td>7</td>\n",
              "      <td>11</td>\n",
              "      <td>3</td>\n",
              "      <td>14.166667</td>\n",
              "      <td>0</td>\n",
              "      <td>12.4</td>\n",
              "      <td>0.5</td>\n",
              "      <td>1.79</td>\n",
              "      <td>0</td>\n",
              "    </tr>\n",
              "    <tr>\n",
              "      <th>3999</th>\n",
              "      <td>1</td>\n",
              "      <td>8</td>\n",
              "      <td>6</td>\n",
              "      <td>12</td>\n",
              "      <td>1</td>\n",
              "      <td>1</td>\n",
              "      <td>1</td>\n",
              "      <td>1</td>\n",
              "      <td>28</td>\n",
              "      <td>5</td>\n",
              "      <td>...</td>\n",
              "      <td>0</td>\n",
              "      <td>8</td>\n",
              "      <td>8</td>\n",
              "      <td>8</td>\n",
              "      <td>14.212500</td>\n",
              "      <td>0</td>\n",
              "      <td>13.9</td>\n",
              "      <td>-0.3</td>\n",
              "      <td>0.79</td>\n",
              "      <td>0</td>\n",
              "    </tr>\n",
              "  </tbody>\n",
              "</table>\n",
              "<p>4000 rows × 35 columns</p>\n",
              "</div>\n",
              "    <div class=\"colab-df-buttons\">\n",
              "\n",
              "  <div class=\"colab-df-container\">\n",
              "    <button class=\"colab-df-convert\" onclick=\"convertToInteractive('df-37606f03-8893-413c-8bed-c47b4ad2881a')\"\n",
              "            title=\"Convert this dataframe to an interactive table.\"\n",
              "            style=\"display:none;\">\n",
              "\n",
              "  <svg xmlns=\"http://www.w3.org/2000/svg\" height=\"24px\" viewBox=\"0 -960 960 960\">\n",
              "    <path d=\"M120-120v-720h720v720H120Zm60-500h600v-160H180v160Zm220 220h160v-160H400v160Zm0 220h160v-160H400v160ZM180-400h160v-160H180v160Zm440 0h160v-160H620v160ZM180-180h160v-160H180v160Zm440 0h160v-160H620v160Z\"/>\n",
              "  </svg>\n",
              "    </button>\n",
              "\n",
              "  <style>\n",
              "    .colab-df-container {\n",
              "      display:flex;\n",
              "      gap: 12px;\n",
              "    }\n",
              "\n",
              "    .colab-df-convert {\n",
              "      background-color: #E8F0FE;\n",
              "      border: none;\n",
              "      border-radius: 50%;\n",
              "      cursor: pointer;\n",
              "      display: none;\n",
              "      fill: #1967D2;\n",
              "      height: 32px;\n",
              "      padding: 0 0 0 0;\n",
              "      width: 32px;\n",
              "    }\n",
              "\n",
              "    .colab-df-convert:hover {\n",
              "      background-color: #E2EBFA;\n",
              "      box-shadow: 0px 1px 2px rgba(60, 64, 67, 0.3), 0px 1px 3px 1px rgba(60, 64, 67, 0.15);\n",
              "      fill: #174EA6;\n",
              "    }\n",
              "\n",
              "    .colab-df-buttons div {\n",
              "      margin-bottom: 4px;\n",
              "    }\n",
              "\n",
              "    [theme=dark] .colab-df-convert {\n",
              "      background-color: #3B4455;\n",
              "      fill: #D2E3FC;\n",
              "    }\n",
              "\n",
              "    [theme=dark] .colab-df-convert:hover {\n",
              "      background-color: #434B5C;\n",
              "      box-shadow: 0px 1px 3px 1px rgba(0, 0, 0, 0.15);\n",
              "      filter: drop-shadow(0px 1px 2px rgba(0, 0, 0, 0.3));\n",
              "      fill: #FFFFFF;\n",
              "    }\n",
              "  </style>\n",
              "\n",
              "    <script>\n",
              "      const buttonEl =\n",
              "        document.querySelector('#df-37606f03-8893-413c-8bed-c47b4ad2881a button.colab-df-convert');\n",
              "      buttonEl.style.display =\n",
              "        google.colab.kernel.accessAllowed ? 'block' : 'none';\n",
              "\n",
              "      async function convertToInteractive(key) {\n",
              "        const element = document.querySelector('#df-37606f03-8893-413c-8bed-c47b4ad2881a');\n",
              "        const dataTable =\n",
              "          await google.colab.kernel.invokeFunction('convertToInteractive',\n",
              "                                                    [key], {});\n",
              "        if (!dataTable) return;\n",
              "\n",
              "        const docLinkHtml = 'Like what you see? Visit the ' +\n",
              "          '<a target=\"_blank\" href=https://colab.research.google.com/notebooks/data_table.ipynb>data table notebook</a>'\n",
              "          + ' to learn more about interactive tables.';\n",
              "        element.innerHTML = '';\n",
              "        dataTable['output_type'] = 'display_data';\n",
              "        await google.colab.output.renderOutput(dataTable, element);\n",
              "        const docLink = document.createElement('div');\n",
              "        docLink.innerHTML = docLinkHtml;\n",
              "        element.appendChild(docLink);\n",
              "      }\n",
              "    </script>\n",
              "  </div>\n",
              "\n",
              "\n",
              "    <div id=\"df-3c5c2261-06b3-4689-b619-e23eee69dd77\">\n",
              "      <button class=\"colab-df-quickchart\" onclick=\"quickchart('df-3c5c2261-06b3-4689-b619-e23eee69dd77')\"\n",
              "                title=\"Suggest charts\"\n",
              "                style=\"display:none;\">\n",
              "\n",
              "<svg xmlns=\"http://www.w3.org/2000/svg\" height=\"24px\"viewBox=\"0 0 24 24\"\n",
              "     width=\"24px\">\n",
              "    <g>\n",
              "        <path d=\"M19 3H5c-1.1 0-2 .9-2 2v14c0 1.1.9 2 2 2h14c1.1 0 2-.9 2-2V5c0-1.1-.9-2-2-2zM9 17H7v-7h2v7zm4 0h-2V7h2v10zm4 0h-2v-4h2v4z\"/>\n",
              "    </g>\n",
              "</svg>\n",
              "      </button>\n",
              "\n",
              "<style>\n",
              "  .colab-df-quickchart {\n",
              "      --bg-color: #E8F0FE;\n",
              "      --fill-color: #1967D2;\n",
              "      --hover-bg-color: #E2EBFA;\n",
              "      --hover-fill-color: #174EA6;\n",
              "      --disabled-fill-color: #AAA;\n",
              "      --disabled-bg-color: #DDD;\n",
              "  }\n",
              "\n",
              "  [theme=dark] .colab-df-quickchart {\n",
              "      --bg-color: #3B4455;\n",
              "      --fill-color: #D2E3FC;\n",
              "      --hover-bg-color: #434B5C;\n",
              "      --hover-fill-color: #FFFFFF;\n",
              "      --disabled-bg-color: #3B4455;\n",
              "      --disabled-fill-color: #666;\n",
              "  }\n",
              "\n",
              "  .colab-df-quickchart {\n",
              "    background-color: var(--bg-color);\n",
              "    border: none;\n",
              "    border-radius: 50%;\n",
              "    cursor: pointer;\n",
              "    display: none;\n",
              "    fill: var(--fill-color);\n",
              "    height: 32px;\n",
              "    padding: 0;\n",
              "    width: 32px;\n",
              "  }\n",
              "\n",
              "  .colab-df-quickchart:hover {\n",
              "    background-color: var(--hover-bg-color);\n",
              "    box-shadow: 0 1px 2px rgba(60, 64, 67, 0.3), 0 1px 3px 1px rgba(60, 64, 67, 0.15);\n",
              "    fill: var(--button-hover-fill-color);\n",
              "  }\n",
              "\n",
              "  .colab-df-quickchart-complete:disabled,\n",
              "  .colab-df-quickchart-complete:disabled:hover {\n",
              "    background-color: var(--disabled-bg-color);\n",
              "    fill: var(--disabled-fill-color);\n",
              "    box-shadow: none;\n",
              "  }\n",
              "\n",
              "  .colab-df-spinner {\n",
              "    border: 2px solid var(--fill-color);\n",
              "    border-color: transparent;\n",
              "    border-bottom-color: var(--fill-color);\n",
              "    animation:\n",
              "      spin 1s steps(1) infinite;\n",
              "  }\n",
              "\n",
              "  @keyframes spin {\n",
              "    0% {\n",
              "      border-color: transparent;\n",
              "      border-bottom-color: var(--fill-color);\n",
              "      border-left-color: var(--fill-color);\n",
              "    }\n",
              "    20% {\n",
              "      border-color: transparent;\n",
              "      border-left-color: var(--fill-color);\n",
              "      border-top-color: var(--fill-color);\n",
              "    }\n",
              "    30% {\n",
              "      border-color: transparent;\n",
              "      border-left-color: var(--fill-color);\n",
              "      border-top-color: var(--fill-color);\n",
              "      border-right-color: var(--fill-color);\n",
              "    }\n",
              "    40% {\n",
              "      border-color: transparent;\n",
              "      border-right-color: var(--fill-color);\n",
              "      border-top-color: var(--fill-color);\n",
              "    }\n",
              "    60% {\n",
              "      border-color: transparent;\n",
              "      border-right-color: var(--fill-color);\n",
              "    }\n",
              "    80% {\n",
              "      border-color: transparent;\n",
              "      border-right-color: var(--fill-color);\n",
              "      border-bottom-color: var(--fill-color);\n",
              "    }\n",
              "    90% {\n",
              "      border-color: transparent;\n",
              "      border-bottom-color: var(--fill-color);\n",
              "    }\n",
              "  }\n",
              "</style>\n",
              "\n",
              "      <script>\n",
              "        async function quickchart(key) {\n",
              "          const quickchartButtonEl =\n",
              "            document.querySelector('#' + key + ' button');\n",
              "          quickchartButtonEl.disabled = true;  // To prevent multiple clicks.\n",
              "          quickchartButtonEl.classList.add('colab-df-spinner');\n",
              "          try {\n",
              "            const charts = await google.colab.kernel.invokeFunction(\n",
              "                'suggestCharts', [key], {});\n",
              "          } catch (error) {\n",
              "            console.error('Error during call to suggestCharts:', error);\n",
              "          }\n",
              "          quickchartButtonEl.classList.remove('colab-df-spinner');\n",
              "          quickchartButtonEl.classList.add('colab-df-quickchart-complete');\n",
              "        }\n",
              "        (() => {\n",
              "          let quickchartButtonEl =\n",
              "            document.querySelector('#df-3c5c2261-06b3-4689-b619-e23eee69dd77 button');\n",
              "          quickchartButtonEl.style.display =\n",
              "            google.colab.kernel.accessAllowed ? 'block' : 'none';\n",
              "        })();\n",
              "      </script>\n",
              "    </div>\n",
              "\n",
              "  <div id=\"id_82fe84ef-0694-43bb-8dde-69aa0f132a3d\">\n",
              "    <style>\n",
              "      .colab-df-generate {\n",
              "        background-color: #E8F0FE;\n",
              "        border: none;\n",
              "        border-radius: 50%;\n",
              "        cursor: pointer;\n",
              "        display: none;\n",
              "        fill: #1967D2;\n",
              "        height: 32px;\n",
              "        padding: 0 0 0 0;\n",
              "        width: 32px;\n",
              "      }\n",
              "\n",
              "      .colab-df-generate:hover {\n",
              "        background-color: #E2EBFA;\n",
              "        box-shadow: 0px 1px 2px rgba(60, 64, 67, 0.3), 0px 1px 3px 1px rgba(60, 64, 67, 0.15);\n",
              "        fill: #174EA6;\n",
              "      }\n",
              "\n",
              "      [theme=dark] .colab-df-generate {\n",
              "        background-color: #3B4455;\n",
              "        fill: #D2E3FC;\n",
              "      }\n",
              "\n",
              "      [theme=dark] .colab-df-generate:hover {\n",
              "        background-color: #434B5C;\n",
              "        box-shadow: 0px 1px 3px 1px rgba(0, 0, 0, 0.15);\n",
              "        filter: drop-shadow(0px 1px 2px rgba(0, 0, 0, 0.3));\n",
              "        fill: #FFFFFF;\n",
              "      }\n",
              "    </style>\n",
              "    <button class=\"colab-df-generate\" onclick=\"generateWithVariable('df_train_encoded')\"\n",
              "            title=\"Generate code using this dataframe.\"\n",
              "            style=\"display:none;\">\n",
              "\n",
              "  <svg xmlns=\"http://www.w3.org/2000/svg\" height=\"24px\"viewBox=\"0 0 24 24\"\n",
              "       width=\"24px\">\n",
              "    <path d=\"M7,19H8.4L18.45,9,17,7.55,7,17.6ZM5,21V16.75L18.45,3.32a2,2,0,0,1,2.83,0l1.4,1.43a1.91,1.91,0,0,1,.58,1.4,1.91,1.91,0,0,1-.58,1.4L9.25,21ZM18.45,9,17,7.55Zm-12,3A5.31,5.31,0,0,0,4.9,8.1,5.31,5.31,0,0,0,1,6.5,5.31,5.31,0,0,0,4.9,4.9,5.31,5.31,0,0,0,6.5,1,5.31,5.31,0,0,0,8.1,4.9,5.31,5.31,0,0,0,12,6.5,5.46,5.46,0,0,0,6.5,12Z\"/>\n",
              "  </svg>\n",
              "    </button>\n",
              "    <script>\n",
              "      (() => {\n",
              "      const buttonEl =\n",
              "        document.querySelector('#id_82fe84ef-0694-43bb-8dde-69aa0f132a3d button.colab-df-generate');\n",
              "      buttonEl.style.display =\n",
              "        google.colab.kernel.accessAllowed ? 'block' : 'none';\n",
              "\n",
              "      buttonEl.onclick = () => {\n",
              "        google.colab.notebook.generateWithVariable('df_train_encoded');\n",
              "      }\n",
              "      })();\n",
              "    </script>\n",
              "  </div>\n",
              "\n",
              "    </div>\n",
              "  </div>\n"
            ],
            "application/vnd.google.colaboratory.intrinsic+json": {
              "type": "dataframe",
              "variable_name": "df_train_encoded"
            }
          },
          "metadata": {},
          "execution_count": 5
        }
      ]
    },
    {
      "cell_type": "code",
      "source": [
        "#Create Stratified K-fold cross validation\n",
        "cv = RepeatedStratifiedKFold(n_splits=5, n_repeats=3, random_state=1)"
      ],
      "metadata": {
        "id": "gA-E51zKL-4G"
      },
      "execution_count": 6,
      "outputs": []
    },
    {
      "cell_type": "code",
      "source": [
        "#split data into 80 and 20\n",
        "from sklearn.model_selection import train_test_split\n",
        "X = df_train_encoded.drop(['Target'], axis=1)\n",
        "y = df_train_encoded['Target']\n",
        "\n",
        "scaler = StandardScaler()\n",
        "X = pd.DataFrame(scaler.fit_transform(X), columns=X.columns)\n",
        "\n",
        "smt = SMOTE(random_state = 42)\n",
        "X, y = smt.fit_resample(X, y)\n",
        "\n",
        "X_train, X_test, y_train, y_test = train_test_split(X, y, test_size=0.2, random_state=42, stratify=y)"
      ],
      "metadata": {
        "id": "PHTp_rpqAvTH"
      },
      "execution_count": 7,
      "outputs": []
    },
    {
      "cell_type": "markdown",
      "source": [
        "# SVM"
      ],
      "metadata": {
        "id": "FcHaG9cOee1Y"
      }
    },
    {
      "cell_type": "code",
      "source": [
        "# Define the hyperparameter grid\n",
        "param_grid_svm = {\n",
        "    'C': [0.01, 0.1, 1],  # Regularization parameter, best = 1\n",
        "    'kernel': ['linear', 'rbf', 'poly', 'sigmoid'],  # Kernel type, best = rbf\n",
        "    'gamma': [0.01, 0.1],  # Kernel coefficient (for 'rbf', 'poly', 'sigmoid'), best = 0.1\n",
        "    'degree': [2,3,4] #best = 2\n",
        "}\n",
        "\n",
        "# Create the SVC model object\n",
        "svc_model = SVC(random_state=42)\n",
        "\n",
        "# Create the GridSearchCV object\n",
        "grid_search = GridSearchCV(svc_model, param_grid_svm, cv=cv, scoring='accuracy')\n",
        "\n",
        "# Fit the GridSearchCV object to the training data\n",
        "grid_search.fit(X_train, y_train)\n",
        "\n",
        "# Print the best set of hyperparameters and the corresponding score\n",
        "print(\"Best set of hyperparameters: \", grid_search.best_params_)\n",
        "print(\"Best score: \", grid_search.best_score_)"
      ],
      "metadata": {
        "colab": {
          "base_uri": "https://localhost:8080/"
        },
        "id": "DXnojB4ZV74g",
        "outputId": "e9f0234f-e61b-41d9-8fab-f3c4480092be"
      },
      "execution_count": null,
      "outputs": [
        {
          "output_type": "stream",
          "name": "stdout",
          "text": [
            "Best set of hyperparameters:  {'C': 1, 'degree': 2, 'gamma': 0.1, 'kernel': 'rbf'}\n",
            "Best score:  0.8240972222222224\n"
          ]
        }
      ]
    },
    {
      "cell_type": "code",
      "source": [
        "# ==== 5. Evaluasi pada Berbagai Ukuran Data ====\n",
        "train_accuracies = []\n",
        "val_accuracies = []\n",
        "sizes = [0.1, 0.3, 0.5, 0.7, 1.0]\n",
        "\n",
        "for size in sizes:\n",
        "    subset_size = int(len(X_train) * size)\n",
        "    X_sub = X_train[:subset_size]\n",
        "    y_sub = y_train[:subset_size]\n",
        "\n",
        "    model = SVC(kernel='rbf', C=1, gamma=0.1, degree=2, random_state=42)\n",
        "    model.fit(X_sub, y_sub)\n",
        "\n",
        "    y_sub_pred = model.predict(X_sub)\n",
        "    y_test_pred = model.predict(X_test)\n",
        "\n",
        "    train_acc = accuracy_score(y_sub, y_sub_pred)\n",
        "    test_acc = accuracy_score(y_test, y_test_pred)\n",
        "\n",
        "    train_accuracies.append(train_acc)\n",
        "    val_accuracies.append(test_acc)"
      ],
      "metadata": {
        "id": "vKu-l88XWNxX"
      },
      "execution_count": 13,
      "outputs": []
    },
    {
      "cell_type": "code",
      "source": [
        "# ==== 5. Grafik Akurasi ====\n",
        "plt.figure(figsize=(8, 5))\n",
        "plt.plot([int(s*100) for s in sizes], train_accuracies, label='Training Accuracy', marker='o')\n",
        "plt.plot([int(s*100) for s in sizes], val_accuracies, label='Testing Accuracy', marker='o')\n",
        "plt.xlabel('Percentage of Training Data Used (%)')\n",
        "plt.ylabel('Accuracy')\n",
        "plt.title('Training vs Testing Accuracy (SVM)')\n",
        "plt.legend()\n",
        "plt.grid(True)\n",
        "plt.tight_layout()\n",
        "plt.show()"
      ],
      "metadata": {
        "colab": {
          "base_uri": "https://localhost:8080/",
          "height": 507
        },
        "id": "OLk6hd-zc01D",
        "outputId": "6174af30-409b-4291-d005-19cf90203ed3"
      },
      "execution_count": 14,
      "outputs": [
        {
          "output_type": "display_data",
          "data": {
            "text/plain": [
              "<Figure size 800x500 with 1 Axes>"
            ],
            "image/png": "[encoded data removed]"
          },
          "metadata": {}
        }
      ]
    },
    {
      "cell_type": "code",
      "source": [
        "# ==== 7. Final Training dan Evaluasi ====\n",
        "#Best set of hyperparameters:  {'C': 1, 'degree': 2, 'gamma': 0.1, 'kernel': 'rbf'}\n",
        "\n",
        "final_model_svc = SVC(kernel='rbf', C=1, degree = 2, gamma=0.1, random_state=42,probability = True)\n",
        "final_model_svc.fit(X_train, y_train)\n",
        "\n",
        "# Akurasi Training dan Testing\n",
        "train_acc_final = accuracy_score(y_train, final_model_svc.predict(X_train))\n",
        "test_acc_final = accuracy_score(y_test, final_model_svc.predict(X_test))\n",
        "\n",
        "print(f\"🎯 Final Training Accuracy: {train_acc_final:.4f}\")\n",
        "print(f\"📊 Final Testing Accuracy: {test_acc_final:.4f}\")"
      ],
      "metadata": {
        "colab": {
          "base_uri": "https://localhost:8080/"
        },
        "id": "5B-zYDV5c5gM",
        "outputId": "27aecc14-bc0a-4e67-b34e-b93301ddbb55"
      },
      "execution_count": 23,
      "outputs": [
        {
          "output_type": "stream",
          "name": "stdout",
          "text": [
            "🎯 Final Training Accuracy: 0.9325\n",
            "📊 Final Testing Accuracy: 0.8358\n"
          ]
        }
      ]
    },
    {
      "cell_type": "markdown",
      "source": [
        "hasil_prediksi (11) = 0.72864"
      ],
      "metadata": {
        "id": "xURFkv4Xe3jt"
      }
    },
    {
      "cell_type": "markdown",
      "source": [
        "# RANDOM FOREST"
      ],
      "metadata": {
        "id": "KdE_DtGaegfF"
      }
    },
    {
      "cell_type": "code",
      "source": [
        "#randomized search random forest\n",
        "\n",
        "param_dist_random_forest = {\n",
        "    'n_estimators': np.arange(50, 250, 50),  # 50, 100, 150, 200\n",
        "    'max_depth': [None] + list(np.arange(5, 35, 5)),  # None, 5, 10, 15, 20, 25, 30\n",
        "    'min_samples_split': np.arange(2, 11, 2),  # 2, 4, 6, 8, 10\n",
        "    'min_samples_leaf': np.arange(1, 5),  # 1, 2, 3, 4\n",
        "    'max_features': ['sqrt', 'log2', None],\n",
        "    'bootstrap': [True, False],\n",
        "    'class_weight': [None, 'balanced']\n",
        "}\n",
        "\n",
        "rf = RandomForestClassifier(random_state = 42)\n",
        "\n",
        "# RandomizedSearchCV\n",
        "random_search_rf = RandomizedSearchCV(\n",
        "    estimator=rf,\n",
        "    param_distributions=param_dist_random_forest,\n",
        "    n_iter=50,  # Jumlah kombinasi parameter yang akan dicoba\n",
        "    cv=cv,  # Cross-validation\n",
        "    scoring='accuracy',\n",
        "    n_jobs=-1,  # Gunakan semua core CPU\n",
        "    verbose=1,\n",
        "    random_state=42\n",
        ")\n",
        "\n",
        "random_search_rf.fit(X_train, y_train)\n",
        "\n",
        "print(random_search_rf.best_params_) #{'n_estimators': np.int64(50), 'min_samples_split': np.int64(4), 'min_samples_leaf': np.int64(1), 'max_features': 'log2', 'max_depth': None, 'class_weight': None, 'bootstrap': False}"
      ],
      "metadata": {
        "colab": {
          "base_uri": "https://localhost:8080/"
        },
        "id": "FSAyVtqTuAgk",
        "outputId": "bc9accb3-ea7c-47ce-8ad2-fe361de654d3"
      },
      "execution_count": null,
      "outputs": [
        {
          "output_type": "stream",
          "name": "stdout",
          "text": [
            "Fitting 15 folds for each of 50 candidates, totalling 750 fits\n",
            "{'n_estimators': np.int64(50), 'min_samples_split': np.int64(4), 'min_samples_leaf': np.int64(1), 'max_features': 'log2', 'max_depth': None, 'class_weight': None, 'bootstrap': False}\n"
          ]
        }
      ]
    },
    {
      "cell_type": "code",
      "source": [
        "# ==== 5. Evaluasi pada Berbagai Ukuran Data ====\n",
        "train_accuracies = []\n",
        "val_accuracies = []\n",
        "sizes = [0.1, 0.3, 0.5, 0.7, 1.0]\n",
        "\n",
        "for size in sizes:\n",
        "    subset_size = int(len(X_train) * size)\n",
        "    X_sub = X_train[:subset_size]\n",
        "    y_sub = y_train[:subset_size]\n",
        "\n",
        "    model = RandomForestClassifier(n_estimators = 50, min_samples_split = 4, min_samples_leaf = 1, max_features = 'log2', max_depth = None, class_weight = None, bootstrap = False)\n",
        "    model.fit(X_sub, y_sub)\n",
        "\n",
        "    y_sub_pred = model.predict(X_sub)\n",
        "    y_test_pred = model.predict(X_test)\n",
        "\n",
        "    train_acc = accuracy_score(y_sub, y_sub_pred)\n",
        "    test_acc = accuracy_score(y_test, y_test_pred)\n",
        "\n",
        "    train_accuracies.append(train_acc)\n",
        "    val_accuracies.append(test_acc)"
      ],
      "metadata": {
        "id": "pmjzIhDd1vTs"
      },
      "execution_count": 21,
      "outputs": []
    },
    {
      "cell_type": "code",
      "source": [
        "# ==== 6. Grafik Akurasi ====\n",
        "plt.figure(figsize=(8, 5))\n",
        "plt.plot([int(s*100) for s in sizes], train_accuracies, label='Training Accuracy', marker='o')\n",
        "plt.plot([int(s*100) for s in sizes], val_accuracies, label='Testing Accuracy', marker='o')\n",
        "plt.xlabel('Percentage of Training Data Used (%)')\n",
        "plt.ylabel('Accuracy')\n",
        "plt.title('Training vs Testing Accuracy (Random Forest)')\n",
        "plt.legend()\n",
        "plt.grid(True)\n",
        "plt.tight_layout()\n",
        "plt.show()"
      ],
      "metadata": {
        "colab": {
          "base_uri": "https://localhost:8080/",
          "height": 507
        },
        "id": "UBtq9zvD2UDl",
        "outputId": "9eec5f13-9526-4202-89cb-7cb846eab2fe"
      },
      "execution_count": 12,
      "outputs": [
        {
          "output_type": "display_data",
          "data": {
            "text/plain": [
              "<Figure size 800x500 with 1 Axes>"
            ],
            "image/png": "[encoded data removed]"
          },
          "metadata": {}
        }
      ]
    },
    {
      "cell_type": "code",
      "source": [
        "# ==== 7. Final Training dan Evaluasi ====\n",
        "final_model_rf = RandomForestClassifier(n_estimators = 50,\n",
        "                                        min_samples_split = 4,\n",
        "                                        min_samples_leaf = 1,\n",
        "                                        max_features = 'log2',\n",
        "                                        max_depth = None,\n",
        "                                        class_weight = None,\n",
        "                                        bootstrap = False)\n",
        "final_model_rf.fit(X_train, y_train)\n",
        "\n",
        "# Akurasi Training dan Testing\n",
        "train_acc_final = accuracy_score(y_train, final_model_rf.predict(X_train))\n",
        "test_acc_final = accuracy_score(y_test, final_model_rf.predict(X_test))\n",
        "\n",
        "print(f\"🎯 Final Training Accuracy: {train_acc_final:.4f}\")\n",
        "print(f\"📊 Final Testing Accuracy: {test_acc_final:.4f}\")"
      ],
      "metadata": {
        "colab": {
          "base_uri": "https://localhost:8080/"
        },
        "id": "ivawAvgR2WXW",
        "outputId": "6e22b860-25c2-4f4f-e768-ac689fc19e0a"
      },
      "execution_count": 20,
      "outputs": [
        {
          "output_type": "stream",
          "name": "stdout",
          "text": [
            "🎯 Final Training Accuracy: 1.0000\n",
            "📊 Final Testing Accuracy: 0.8525\n"
          ]
        }
      ]
    },
    {
      "cell_type": "markdown",
      "source": [
        "hasil_prediksi (12) = 0.79396"
      ],
      "metadata": {
        "id": "-1rX7EFc4N9a"
      }
    },
    {
      "cell_type": "code",
      "source": [
        "# feature importance\n",
        "\n",
        "\n",
        "# Ambil nama-nama fitur dari X_train\n",
        "feature_names = X_train.columns\n",
        "\n",
        "# Ambil nilai feature importance\n",
        "importances = final_model_rf.feature_importances_\n",
        "\n",
        "# Gabungkan ke dalam DataFrame biar mudah dibaca dan diurutkan\n",
        "feat_imp_df = pd.DataFrame({\n",
        "    'Feature': feature_names,\n",
        "    'Importance': importances\n",
        "}).sort_values(by='Importance', ascending=False)\n",
        "\n",
        "# Tampilkan top-n fitur paling penting (misal top 20)\n",
        "print(\"\\nTop Feature Importances:\")\n",
        "#print(feat_imp_df.head(20))\n",
        "print(feat_imp_df)"
      ],
      "metadata": {
        "colab": {
          "base_uri": "https://localhost:8080/"
        },
        "id": "jYXul6777fyw",
        "outputId": "07fbd7a6-6df7-4933-bc26-aea537018f32"
      },
      "execution_count": 24,
      "outputs": [
        {
          "output_type": "stream",
          "name": "stdout",
          "text": [
            "\n",
            "Top Feature Importances:\n",
            "                                           Feature  Importance\n",
            "28             Curricular units 2nd sem (approved)    0.163303\n",
            "22             Curricular units 1st sem (approved)    0.105526\n",
            "29                Curricular units 2nd sem (grade)    0.081400\n",
            "23                Curricular units 1st sem (grade)    0.058416\n",
            "27          Curricular units 2nd sem (evaluations)    0.052817\n",
            "21          Curricular units 1st sem (evaluations)    0.044955\n",
            "17                               Age at enrollment    0.043366\n",
            "14                         Tuition fees up to date    0.040732\n",
            "26             Curricular units 2nd sem (enrolled)    0.036736\n",
            "3                                           Course    0.032774\n",
            "9                              Mother's occupation    0.030570\n",
            "10                             Father's occupation    0.030007\n",
            "20             Curricular units 1st sem (enrolled)    0.027683\n",
            "7                           Mother's qualification    0.025004\n",
            "32                                  Inflation rate    0.024534\n",
            "31                               Unemployment rate    0.024344\n",
            "33                                             GDP    0.023667\n",
            "1                                 Application mode    0.023317\n",
            "8                           Father's qualification    0.022953\n",
            "2                                Application order    0.014200\n",
            "16                              Scholarship holder    0.012690\n",
            "15                                          Gender    0.012557\n",
            "13                                          Debtor    0.012532\n",
            "11                                       Displaced    0.009578\n",
            "19             Curricular units 1st sem (credited)    0.008699\n",
            "25             Curricular units 2nd sem (credited)    0.008676\n",
            "5                           Previous qualification    0.007013\n",
            "30  Curricular units 2nd sem (without evaluations)    0.005544\n",
            "24  Curricular units 1st sem (without evaluations)    0.005078\n",
            "0                                   Marital status    0.004229\n",
            "4                       Daytime/evening attendance    0.002872\n",
            "6                                      Nacionality    0.001804\n",
            "18                                   International    0.001219\n",
            "12                       Educational special needs    0.001206\n"
          ]
        }
      ]
    },
    {
      "cell_type": "code",
      "source": [
        "# Ambil top 20 fitur terpenting\n",
        "top_20_features = feat_imp_df.head(20)['Feature'].tolist()\n",
        "\n",
        "# Subset X_train dan X_test hanya dengan fitur-fitur tersebut\n",
        "X_train_top20 = X_train[top_20_features]\n",
        "X_test_top20 = X_test[top_20_features]\n",
        "\n",
        "# latih ulang model\n",
        "final_model_rf.fit(X_train_top20, y_train)\n",
        "\n",
        "# Akurasi Training dan Testing\n",
        "train_acc_final = accuracy_score(y_train, final_model_rf.predict(X_train_top20))\n",
        "test_acc_final = accuracy_score(y_test, final_model_rf.predict(X_test_top20))\n",
        "\n",
        "print(f\"🎯 Final Training Accuracy: {train_acc_final:.4f}\")\n",
        "print(f\"📊 Final Testing Accuracy: {test_acc_final:.4f}\")"
      ],
      "metadata": {
        "colab": {
          "base_uri": "https://localhost:8080/"
        },
        "id": "gSWDA6bQ73dW",
        "outputId": "5938c049-8b50-4ae9-a659-0cae4dd1661c"
      },
      "execution_count": 25,
      "outputs": [
        {
          "output_type": "stream",
          "name": "stdout",
          "text": [
            "🎯 Final Training Accuracy: 0.9998\n",
            "📊 Final Testing Accuracy: 0.8433\n"
          ]
        }
      ]
    },
    {
      "cell_type": "markdown",
      "source": [
        "hasil_prediksi (17)"
      ],
      "metadata": {
        "id": "R5YlvNBY8XMO"
      }
    },
    {
      "cell_type": "code",
      "source": [
        "# Ambil top 10 fitur terpenting\n",
        "top_10_features = feat_imp_df.head(10)['Feature'].tolist()\n",
        "\n",
        "# Subset X_train dan X_test hanya dengan fitur-fitur tersebut\n",
        "X_train_top10 = X_train[top_10_features]\n",
        "X_test_top10 = X_test[top_10_features]\n",
        "\n",
        "# latih ulang model\n",
        "final_model_rf.fit(X_train_top10, y_train)\n",
        "\n",
        "# Akurasi Training dan Testing\n",
        "train_acc_final = accuracy_score(y_train, final_model_rf.predict(X_train_top10))\n",
        "test_acc_final = accuracy_score(y_test, final_model_rf.predict(X_test_top10))\n",
        "\n",
        "print(f\"🎯 Final Training Accuracy: {train_acc_final:.4f}\")\n",
        "print(f\"📊 Final Testing Accuracy: {test_acc_final:.4f}\")"
      ],
      "metadata": {
        "colab": {
          "base_uri": "https://localhost:8080/"
        },
        "id": "luxmBW7i-mWf",
        "outputId": "44514c29-7ccd-4a99-a2e5-2e7a4688518b"
      },
      "execution_count": 26,
      "outputs": [
        {
          "output_type": "stream",
          "name": "stdout",
          "text": [
            "🎯 Final Training Accuracy: 0.9825\n",
            "📊 Final Testing Accuracy: 0.8075\n"
          ]
        }
      ]
    },
    {
      "cell_type": "markdown",
      "source": [
        "hasil_prediksi (18)"
      ],
      "metadata": {
        "id": "gk-YVlKD__fr"
      }
    },
    {
      "cell_type": "markdown",
      "source": [
        "# XGBoost"
      ],
      "metadata": {
        "id": "daqs1xrO4wri"
      }
    },
    {
      "cell_type": "code",
      "source": [
        "#grid search xgboost\n",
        "\n",
        "param_dist_xgb = {\n",
        "    'n_estimators': np.arange(50, 300, 50),  # 50, 100, 150, 200, 250\n",
        "    'max_depth': np.arange(3, 12),  # 3 to 11\n",
        "    'learning_rate': [0.001, 0.01, 0.05, 0.1, 0.2],\n",
        "    'subsample': np.linspace(0.6, 1.0, 5),  # 0.6, 0.7, 0.8, 0.9, 1.0\n",
        "    'colsample_bytree': np.linspace(0.6, 1.0, 5),\n",
        "    'gamma': [0, 0.1, 0.2, 0.5, 1],\n",
        "    'min_child_weight': np.arange(1, 6),  # 1 to 5\n",
        "    'reg_alpha': [0, 0.01, 0.1, 1, 10],  # L1 regularization\n",
        "    'reg_lambda': [0, 0.01, 0.1, 1, 10],  # L2 regularization\n",
        "    'scale_pos_weight': [1, 5, 10]  # Untuk klasifikasi tidak seimbang\n",
        "}\n",
        "\n",
        "xgb_clf = XGBClassifier(random_state=42, eval_metric='error')\n",
        "\n",
        "# RandomizedSearchCV\n",
        "random_search_xgb = RandomizedSearchCV(\n",
        "    estimator=xgb_clf,\n",
        "    param_distributions=param_dist_xgb,\n",
        "    n_iter=50,  # Jumlah kombinasi parameter yang akan dicoba\n",
        "    cv=cv,  # Cross-validation\n",
        "    scoring='accuracy',\n",
        "    n_jobs=-1,  # Gunakan semua core CPU\n",
        "    verbose=1,\n",
        "    random_state=42\n",
        ")\n",
        "\n",
        "random_search_xgb.fit(X_train, y_train)\n",
        "\n",
        "print(random_search_xgb.best_params_)  #{'subsample': np.float64(0.9), 'scale_pos_weight': 5, 'reg_lambda': 0.1, 'reg_alpha': 0, 'n_estimators': np.int64(250), 'min_child_weight': np.int64(2), 'max_depth': np.int64(9), 'learning_rate': 0.1, 'gamma': 0, 'colsample_bytree': np.float64(0.9)}"
      ],
      "metadata": {
        "colab": {
          "base_uri": "https://localhost:8080/"
        },
        "id": "92EjF0Zj4yIu",
        "outputId": "1de8fc90-78da-4905-d7fc-1983c9bd4fb3"
      },
      "execution_count": null,
      "outputs": [
        {
          "output_type": "stream",
          "name": "stdout",
          "text": [
            "Fitting 15 folds for each of 50 candidates, totalling 750 fits\n"
          ]
        },
        {
          "output_type": "stream",
          "name": "stderr",
          "text": [
            "/usr/local/lib/python3.11/dist-packages/xgboost/core.py:158: UserWarning: [04:14:00] WARNING: /workspace/src/learner.cc:740: \n",
            "Parameters: { \"scale_pos_weight\" } are not used.\n",
            "\n",
            "  warnings.warn(smsg, UserWarning)\n"
          ]
        },
        {
          "output_type": "stream",
          "name": "stdout",
          "text": [
            "{'subsample': np.float64(0.9), 'scale_pos_weight': 5, 'reg_lambda': 0.1, 'reg_alpha': 0, 'n_estimators': np.int64(250), 'min_child_weight': np.int64(2), 'max_depth': np.int64(9), 'learning_rate': 0.1, 'gamma': 0, 'colsample_bytree': np.float64(0.9)}\n"
          ]
        }
      ]
    },
    {
      "cell_type": "code",
      "source": [
        "# ==== 5. Evaluasi pada Berbagai Ukuran Data ====\n",
        "train_accuracies = []\n",
        "val_accuracies = []\n",
        "sizes = [0.1, 0.3, 0.5, 0.7, 1.0]\n",
        "\n",
        "for size in sizes:\n",
        "    subset_size = int(len(X_train) * size)\n",
        "    X_sub = X_train[:subset_size]\n",
        "    y_sub = y_train[:subset_size]\n",
        "\n",
        "    model = XGBClassifier(subsample = 0.9,\n",
        "                          scale_pos_weight = 5,\n",
        "                          reg_lambda = 0.1,\n",
        "                          reg_alpha = 0,\n",
        "                          n_estimators = 250,\n",
        "                          min_child_weight = 2,\n",
        "                          max_depth = 9,\n",
        "                          learning_rate = 0.1,\n",
        "                          gamma = 0,\n",
        "                          colsample_bytree = 0.9)\n",
        "    model.fit(X_sub, y_sub)\n",
        "\n",
        "    y_sub_pred = model.predict(X_sub)\n",
        "    y_test_pred = model.predict(X_test)\n",
        "\n",
        "    train_acc = accuracy_score(y_sub, y_sub_pred)\n",
        "    test_acc = accuracy_score(y_test, y_test_pred)\n",
        "\n",
        "    train_accuracies.append(train_acc)\n",
        "    val_accuracies.append(test_acc)"
      ],
      "metadata": {
        "colab": {
          "base_uri": "https://localhost:8080/"
        },
        "id": "1zv_zxKxB4gM",
        "outputId": "bc80849d-8c0b-49ed-856d-86bfee26d599"
      },
      "execution_count": null,
      "outputs": [
        {
          "output_type": "stream",
          "name": "stderr",
          "text": [
            "/usr/local/lib/python3.11/dist-packages/xgboost/core.py:158: UserWarning: [07:46:03] WARNING: /workspace/src/learner.cc:740: \n",
            "Parameters: { \"scale_pos_weight\" } are not used.\n",
            "\n",
            "  warnings.warn(smsg, UserWarning)\n",
            "/usr/local/lib/python3.11/dist-packages/xgboost/core.py:158: UserWarning: [07:46:04] WARNING: /workspace/src/learner.cc:740: \n",
            "Parameters: { \"scale_pos_weight\" } are not used.\n",
            "\n",
            "  warnings.warn(smsg, UserWarning)\n",
            "/usr/local/lib/python3.11/dist-packages/xgboost/core.py:158: UserWarning: [07:46:05] WARNING: /workspace/src/learner.cc:740: \n",
            "Parameters: { \"scale_pos_weight\" } are not used.\n",
            "\n",
            "  warnings.warn(smsg, UserWarning)\n",
            "/usr/local/lib/python3.11/dist-packages/xgboost/core.py:158: UserWarning: [07:46:07] WARNING: /workspace/src/learner.cc:740: \n",
            "Parameters: { \"scale_pos_weight\" } are not used.\n",
            "\n",
            "  warnings.warn(smsg, UserWarning)\n",
            "/usr/local/lib/python3.11/dist-packages/xgboost/core.py:158: UserWarning: [07:46:13] WARNING: /workspace/src/learner.cc:740: \n",
            "Parameters: { \"scale_pos_weight\" } are not used.\n",
            "\n",
            "  warnings.warn(smsg, UserWarning)\n"
          ]
        }
      ]
    },
    {
      "cell_type": "code",
      "source": [
        "# ==== 5. Grafik Akurasi ====\n",
        "plt.figure(figsize=(8, 5))\n",
        "plt.plot([int(s*100) for s in sizes], train_accuracies, label='Training Accuracy', marker='o')\n",
        "plt.plot([int(s*100) for s in sizes], val_accuracies, label='Testing Accuracy', marker='o')\n",
        "plt.xlabel('Percentage of Training Data Used (%)')\n",
        "plt.ylabel('Accuracy')\n",
        "plt.title('Training vs Testing Accuracy (XGBoost)')\n",
        "plt.legend()\n",
        "plt.grid(True)\n",
        "plt.tight_layout()\n",
        "plt.show()"
      ],
      "metadata": {
        "colab": {
          "base_uri": "https://localhost:8080/",
          "height": 507
        },
        "id": "UzWCy-cLCeUF",
        "outputId": "cf929ee2-8a7e-4e2c-ea89-26c0bcdef922"
      },
      "execution_count": 15,
      "outputs": [
        {
          "output_type": "display_data",
          "data": {
            "text/plain": [
              "<Figure size 800x500 with 1 Axes>"
            ],
            "image/png": "[encoded data removed]"
          },
          "metadata": {}
        }
      ]
    },
    {
      "cell_type": "code",
      "source": [
        "# ==== 7. Final Training dan Evaluasi ====\n",
        "\n",
        "final_model_xgb = XGBClassifier(subsample = 0.9,\n",
        "                          scale_pos_weight = 5,\n",
        "                          reg_lambda = 0.1,\n",
        "                          reg_alpha = 0,\n",
        "                          n_estimators = 250,\n",
        "                          min_child_weight = 2,\n",
        "                          max_depth = 9,\n",
        "                          learning_rate = 0.1,\n",
        "                          gamma = 0,\n",
        "                          colsample_bytree = 0.9)\n",
        "final_model_xgb.fit(X_train, y_train)\n",
        "\n",
        "# Akurasi Training dan Testing\n",
        "train_acc_final = accuracy_score(y_train, final_model_xgb.predict(X_train))\n",
        "test_acc_final = accuracy_score(y_test, final_model_xgb.predict(X_test))\n",
        "\n",
        "print(f\"🎯 Final Training Accuracy: {train_acc_final:.4f}\")\n",
        "print(f\"📊 Final Testing Accuracy: {test_acc_final:.4f}\")"
      ],
      "metadata": {
        "colab": {
          "base_uri": "https://localhost:8080/"
        },
        "id": "i-j2cvpcCgEM",
        "outputId": "1e092dbf-cd19-4455-a535-b017c11ffbfe"
      },
      "execution_count": 27,
      "outputs": [
        {
          "output_type": "stream",
          "name": "stderr",
          "text": [
            "/usr/local/lib/python3.11/dist-packages/xgboost/core.py:158: UserWarning: [03:00:23] WARNING: /workspace/src/learner.cc:740: \n",
            "Parameters: { \"scale_pos_weight\" } are not used.\n",
            "\n",
            "  warnings.warn(smsg, UserWarning)\n"
          ]
        },
        {
          "output_type": "stream",
          "name": "stdout",
          "text": [
            "🎯 Final Training Accuracy: 1.0000\n",
            "📊 Final Testing Accuracy: 0.8683\n"
          ]
        }
      ]
    },
    {
      "cell_type": "markdown",
      "source": [
        "hasil_prediksi (13) = 0.76381"
      ],
      "metadata": {
        "id": "aJwAHnx3DUwf"
      }
    },
    {
      "cell_type": "markdown",
      "source": [
        "# Ensemble learning"
      ],
      "metadata": {
        "id": "29TQmqp2yqUW"
      }
    },
    {
      "cell_type": "code",
      "source": [
        "estimator = []\n",
        "estimator.append(('SVC', final_model_svc))\n",
        "estimator.append(('RF', final_model_rf))\n",
        "estimator.append(('XGB', final_model_xgb))"
      ],
      "metadata": {
        "id": "G-MNgTiSvj1d"
      },
      "execution_count": null,
      "outputs": []
    },
    {
      "cell_type": "code",
      "source": [
        "# Voting Classifier with hard voting\n",
        "hard_voting = VotingClassifier(estimators = estimator, voting ='hard') #hasil_prediksi (14) = 0.76884\n",
        "hard_voting.fit(X_train, y_train)\n",
        "y_pred = hard_voting.predict(X_test)"
      ],
      "metadata": {
        "colab": {
          "base_uri": "https://localhost:8080/"
        },
        "id": "qseGunLuwdYJ",
        "outputId": "3fb5a85d-6cbc-408b-e3da-f031efd1c980"
      },
      "execution_count": null,
      "outputs": [
        {
          "output_type": "stream",
          "name": "stderr",
          "text": [
            "/usr/local/lib/python3.11/dist-packages/xgboost/core.py:158: UserWarning: [07:58:45] WARNING: /workspace/src/learner.cc:740: \n",
            "Parameters: { \"scale_pos_weight\" } are not used.\n",
            "\n",
            "  warnings.warn(smsg, UserWarning)\n"
          ]
        }
      ]
    },
    {
      "cell_type": "code",
      "source": [
        "# accuracy_score metric to predict Accuracy\n",
        "score_hard = accuracy_score(y_test, y_pred)\n",
        "print(\"Hard Voting Score: %.2f\" % score_hard)"
      ],
      "metadata": {
        "colab": {
          "base_uri": "https://localhost:8080/"
        },
        "id": "SxPNgNp9ws8f",
        "outputId": "b1eee27d-713f-4828-f0b7-ad30f00ae793"
      },
      "execution_count": null,
      "outputs": [
        {
          "output_type": "stream",
          "name": "stdout",
          "text": [
            "Hard Voting Score: 0.86\n"
          ]
        }
      ]
    },
    {
      "cell_type": "code",
      "source": [
        "soft_voting = VotingClassifier(estimators = estimator, voting ='soft') #hasil prediksi (15) = 0.76381\n",
        "soft_voting.fit(X_train, y_train)\n",
        "y_pred = soft_voting.predict(X_test)"
      ],
      "metadata": {
        "colab": {
          "base_uri": "https://localhost:8080/"
        },
        "id": "bfArrsJRxdPH",
        "outputId": "5420d1cf-3a91-4f05-bf2f-fc57e52e8b64"
      },
      "execution_count": null,
      "outputs": [
        {
          "output_type": "stream",
          "name": "stderr",
          "text": [
            "/usr/local/lib/python3.11/dist-packages/xgboost/core.py:158: UserWarning: [07:58:59] WARNING: /workspace/src/learner.cc:740: \n",
            "Parameters: { \"scale_pos_weight\" } are not used.\n",
            "\n",
            "  warnings.warn(smsg, UserWarning)\n"
          ]
        }
      ]
    },
    {
      "cell_type": "code",
      "source": [
        "score_soft = accuracy_score(y_test, y_pred)\n",
        "print(\"Soft Voting Score: %.2f\" % score_soft)"
      ],
      "metadata": {
        "colab": {
          "base_uri": "https://localhost:8080/"
        },
        "id": "dkwAbjEtxfXe",
        "outputId": "fcad7724-1969-4c65-9078-ede963e549a7"
      },
      "execution_count": null,
      "outputs": [
        {
          "output_type": "stream",
          "name": "stdout",
          "text": [
            "Soft Voting Score: 0.87\n"
          ]
        }
      ]
    },
    {
      "cell_type": "code",
      "source": [
        "# Definisikan base models\n",
        "\n",
        "# Meta model (default: LogisticRegression)\n",
        "stacking_clf = StackingClassifier(\n",
        "    estimators=estimator,\n",
        "    final_estimator=LogisticRegression(),\n",
        "    cv=5,\n",
        "    n_jobs=-1\n",
        ")\n",
        "\n",
        "stacking_clf.fit(X_train, y_train) #hasil prediksi (16) = 0.76381\n",
        "print(\"Stacking Accuracy:\", stacking_clf.score(X_test, y_test))"
      ],
      "metadata": {
        "colab": {
          "base_uri": "https://localhost:8080/"
        },
        "id": "N2thFVBKzUr6",
        "outputId": "a0b551d1-7ebe-41f5-f931-ecc5a6766716"
      },
      "execution_count": null,
      "outputs": [
        {
          "output_type": "stream",
          "name": "stdout",
          "text": [
            "Stacking Accuracy: 0.8666666666666667\n"
          ]
        }
      ]
    },
    {
      "cell_type": "markdown",
      "source": [
        "setelah hasil prediksi ensemble learning di submit, akurasi leaderboard kaggle turun sehingga pendekatan ini tidak digunakan"
      ],
      "metadata": {
        "id": "CkUiDpICYVcq"
      }
    },
    {
      "cell_type": "markdown",
      "source": [
        "# MAKE PREDICTIONS"
      ],
      "metadata": {
        "id": "LP9JCG_wJehC"
      }
    },
    {
      "cell_type": "code",
      "source": [
        "df_test = pd.read_csv('/content/drive/MyDrive/IPB/MATKUL/TINGKAT 3/SMT 6/Data Mining/KULIAH/Kaggle Competition/testing.csv')"
      ],
      "metadata": {
        "id": "XWkVuNfQJaYV"
      },
      "execution_count": null,
      "outputs": []
    },
    {
      "cell_type": "code",
      "source": [
        "df_test_selected = df_test.drop(['sample_id'], axis=1)"
      ],
      "metadata": {
        "id": "BDe8cWiKJgsc"
      },
      "execution_count": null,
      "outputs": []
    },
    {
      "cell_type": "code",
      "source": [
        "df_test_selected.info()"
      ],
      "metadata": {
        "colab": {
          "base_uri": "https://localhost:8080/"
        },
        "id": "1rrX8fkpJlSC",
        "outputId": "c09b790f-17aa-43be-8ffd-2383c2a92a09"
      },
      "execution_count": null,
      "outputs": [
        {
          "output_type": "stream",
          "name": "stdout",
          "text": [
            "<class 'pandas.core.frame.DataFrame'>\n",
            "RangeIndex: 424 entries, 0 to 423\n",
            "Data columns (total 34 columns):\n",
            " #   Column                                          Non-Null Count  Dtype  \n",
            "---  ------                                          --------------  -----  \n",
            " 0   Marital status                                  424 non-null    int64  \n",
            " 1   Application mode                                424 non-null    int64  \n",
            " 2   Application order                               424 non-null    int64  \n",
            " 3   Course                                          424 non-null    int64  \n",
            " 4   Daytime/evening attendance                      424 non-null    int64  \n",
            " 5   Previous qualification                          424 non-null    int64  \n",
            " 6   Nacionality                                     424 non-null    int64  \n",
            " 7   Mother's qualification                          424 non-null    int64  \n",
            " 8   Father's qualification                          424 non-null    int64  \n",
            " 9   Mother's occupation                             424 non-null    int64  \n",
            " 10  Father's occupation                             424 non-null    int64  \n",
            " 11  Displaced                                       424 non-null    int64  \n",
            " 12  Educational special needs                       424 non-null    int64  \n",
            " 13  Debtor                                          424 non-null    int64  \n",
            " 14  Tuition fees up to date                         424 non-null    int64  \n",
            " 15  Gender                                          424 non-null    int64  \n",
            " 16  Scholarship holder                              424 non-null    int64  \n",
            " 17  Age at enrollment                               424 non-null    int64  \n",
            " 18  International                                   424 non-null    int64  \n",
            " 19  Curricular units 1st sem (credited)             424 non-null    int64  \n",
            " 20  Curricular units 1st sem (enrolled)             424 non-null    int64  \n",
            " 21  Curricular units 1st sem (evaluations)          424 non-null    int64  \n",
            " 22  Curricular units 1st sem (approved)             424 non-null    int64  \n",
            " 23  Curricular units 1st sem (grade)                424 non-null    float64\n",
            " 24  Curricular units 1st sem (without evaluations)  424 non-null    int64  \n",
            " 25  Curricular units 2nd sem (credited)             424 non-null    int64  \n",
            " 26  Curricular units 2nd sem (enrolled)             424 non-null    int64  \n",
            " 27  Curricular units 2nd sem (evaluations)          424 non-null    int64  \n",
            " 28  Curricular units 2nd sem (approved)             424 non-null    int64  \n",
            " 29  Curricular units 2nd sem (grade)                424 non-null    float64\n",
            " 30  Curricular units 2nd sem (without evaluations)  424 non-null    int64  \n",
            " 31  Unemployment rate                               424 non-null    float64\n",
            " 32  Inflation rate                                  424 non-null    float64\n",
            " 33  GDP                                             424 non-null    float64\n",
            "dtypes: float64(5), int64(29)\n",
            "memory usage: 112.8 KB\n"
          ]
        }
      ]
    },
    {
      "cell_type": "code",
      "source": [
        "df_train.info()"
      ],
      "metadata": {
        "colab": {
          "base_uri": "https://localhost:8080/"
        },
        "id": "vByCeMVVJmO6",
        "outputId": "770d9935-5d3b-4a2f-8ffd-c252fb9866a5"
      },
      "execution_count": null,
      "outputs": [
        {
          "output_type": "stream",
          "name": "stdout",
          "text": [
            "<class 'pandas.core.frame.DataFrame'>\n",
            "RangeIndex: 4000 entries, 0 to 3999\n",
            "Data columns (total 35 columns):\n",
            " #   Column                                          Non-Null Count  Dtype  \n",
            "---  ------                                          --------------  -----  \n",
            " 0   Marital status                                  4000 non-null   int64  \n",
            " 1   Application mode                                4000 non-null   int64  \n",
            " 2   Application order                               4000 non-null   int64  \n",
            " 3   Course                                          4000 non-null   int64  \n",
            " 4   Daytime/evening attendance                      4000 non-null   int64  \n",
            " 5   Previous qualification                          4000 non-null   int64  \n",
            " 6   Nacionality                                     4000 non-null   int64  \n",
            " 7   Mother's qualification                          4000 non-null   int64  \n",
            " 8   Father's qualification                          4000 non-null   int64  \n",
            " 9   Mother's occupation                             4000 non-null   int64  \n",
            " 10  Father's occupation                             4000 non-null   int64  \n",
            " 11  Displaced                                       4000 non-null   int64  \n",
            " 12  Educational special needs                       4000 non-null   int64  \n",
            " 13  Debtor                                          4000 non-null   int64  \n",
            " 14  Tuition fees up to date                         4000 non-null   int64  \n",
            " 15  Gender                                          4000 non-null   int64  \n",
            " 16  Scholarship holder                              4000 non-null   int64  \n",
            " 17  Age at enrollment                               4000 non-null   int64  \n",
            " 18  International                                   4000 non-null   int64  \n",
            " 19  Curricular units 1st sem (credited)             4000 non-null   int64  \n",
            " 20  Curricular units 1st sem (enrolled)             4000 non-null   int64  \n",
            " 21  Curricular units 1st sem (evaluations)          4000 non-null   int64  \n",
            " 22  Curricular units 1st sem (approved)             4000 non-null   int64  \n",
            " 23  Curricular units 1st sem (grade)                4000 non-null   float64\n",
            " 24  Curricular units 1st sem (without evaluations)  4000 non-null   int64  \n",
            " 25  Curricular units 2nd sem (credited)             4000 non-null   int64  \n",
            " 26  Curricular units 2nd sem (enrolled)             4000 non-null   int64  \n",
            " 27  Curricular units 2nd sem (evaluations)          4000 non-null   int64  \n",
            " 28  Curricular units 2nd sem (approved)             4000 non-null   int64  \n",
            " 29  Curricular units 2nd sem (grade)                4000 non-null   float64\n",
            " 30  Curricular units 2nd sem (without evaluations)  4000 non-null   int64  \n",
            " 31  Unemployment rate                               4000 non-null   float64\n",
            " 32  Inflation rate                                  4000 non-null   float64\n",
            " 33  GDP                                             4000 non-null   float64\n",
            " 34  Target                                          4000 non-null   object \n",
            "dtypes: float64(5), int64(29), object(1)\n",
            "memory usage: 1.1+ MB\n"
          ]
        }
      ]
    },
    {
      "cell_type": "code",
      "source": [
        "df_test_selected_scaled = scaler.transform(df_test_selected)"
      ],
      "metadata": {
        "id": "-agNha8td7JB"
      },
      "execution_count": null,
      "outputs": []
    },
    {
      "cell_type": "code",
      "source": [
        "df_test_selected = pd.DataFrame(scaler.transform(df_test_selected), columns=df_test_selected.columns)"
      ],
      "metadata": {
        "id": "NWkDKYbh9rv4"
      },
      "execution_count": null,
      "outputs": []
    },
    {
      "cell_type": "code",
      "source": [
        "y_pred = final_model_rf.predict(df_test_selected)"
      ],
      "metadata": {
        "id": "gqGuLxK09x6A"
      },
      "execution_count": null,
      "outputs": []
    },
    {
      "cell_type": "code",
      "source": [
        "y_pred_labels = label_encoder.inverse_transform(y_pred)"
      ],
      "metadata": {
        "id": "JsRYD7CWKGh3"
      },
      "execution_count": null,
      "outputs": []
    },
    {
      "cell_type": "code",
      "source": [
        "df_prediksi = pd.DataFrame({\n",
        "    \"sample_id\": df_test[\"sample_id\"],\n",
        "    \"Target\": y_pred_labels\n",
        "})\n",
        "\n",
        "df_prediksi.to_csv(\"hasil_prediksi.csv\", index=False)"
      ],
      "metadata": {
        "id": "lhbobffyJu1q"
      },
      "execution_count": null,
      "outputs": []
    }
  ]
}